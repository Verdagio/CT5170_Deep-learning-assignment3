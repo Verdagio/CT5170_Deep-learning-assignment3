{
 "cells": [
  {
   "cell_type": "code",
   "execution_count": null,
   "metadata": {},
   "outputs": [],
   "source": [
    "from utils import *\n",
    "from model import *\n",
    "\n",
    "import numpy as np\n",
    "import pandas as pd\n",
    "import sklearn.metrics as skl\n",
    "import os"
   ]
  },
  {
   "cell_type": "code",
   "execution_count": null,
   "metadata": {},
   "outputs": [],
   "source": [
    "\n",
    "# import pandas as pd\n",
    "# import seaborn\n",
    "\n",
    "\n",
    "# First we need to process our data\n",
    "\n",
    "df = load_data('../data/train.csv')\n",
    "df = normalise_data(df)\n",
    "batches = get_time_series_batches(df)\n",
    "\n",
    "# years = list(batches.keys())\n",
    "# # print(years)\n",
    "# # print(batches[years[0]].keys())\n",
    "# # first_batch = batche\n",
    "# batch = batches[years[0]].get('11')\n",
    "\n",
    "# # create a validation set\n",
    "# validation_batch = batch.sample(frac=0.2)\n",
    "# batch = batch.drop(validation_batch.index)\n",
    "\n",
    "# X_train, Y_train = split_attrs_labels(batch)\n",
    "# X_val, Y_val = split_attrs_labels(validation_batch)\n",
    "\n",
    "# print(batch.describe(include='all'))\n",
    "\n",
    "# model = create_model(X_train[0].shape)\n",
    "# print(model.summary())\n",
    "\n",
    "# EPOCHS = 1000\n",
    "\n",
    "# history = model.fit(X_train, Y_train, epochs=EPOCHS, verbose=0)"
   ]
  },
  {
   "cell_type": "code",
   "execution_count": null,
   "metadata": {},
   "outputs": [],
   "source": [
    "# model.evaluate(X_val, Y_val)\n",
    "\n",
    "# predictions = model.predict(X_val)\n",
    "\n",
    "# skl.explained_variance_score(Y_val, predictions)"
   ]
  },
  {
   "cell_type": "code",
   "execution_count": null,
   "metadata": {},
   "outputs": [],
   "source": [
    "# h = pd.DataFrame(history.history)\n",
    "# print(h)\n",
    "\n",
    "# test_df = load_data('../data/test.csv')\n",
    "# test_df = normalise_data(test_df)\n",
    "# test_batches = get_time_series_batches(test_df)\n",
    "\n",
    "# test_batch = test_batches['2013'].get('11')\n",
    "# X_test, _ = split_attrs_labels(test_batch)\n",
    "\n",
    "# model.predict(X_test)"
   ]
  },
  {
   "cell_type": "code",
   "execution_count": null,
   "metadata": {},
   "outputs": [],
   "source": [
    "# this operation takes 15 + minutes only run it if really necessary / no h5 files exist\n",
    "file_map = dict()\n",
    "if len(os.listdir('./models')) == 0:\n",
    "    file_map = generate_md5s(batches)\n",
    "else:\n",
    "    file_map = get_file_map()"
   ]
  },
  {
   "cell_type": "code",
   "execution_count": null,
   "metadata": {},
   "outputs": [],
   "source": [
    "print(file_map)\n",
    "\n",
    "m1 = tf.keras.models.load_model(file_map['2013'].get('12'))\n",
    "\n",
    "m1.summary()"
   ]
  }
 ],
 "metadata": {
  "kernelspec": {
   "display_name": "Python 3.8.10 64-bit",
   "language": "python",
   "name": "python3"
  },
  "language_info": {
   "codemirror_mode": {
    "name": "ipython",
    "version": 3
   },
   "file_extension": ".py",
   "mimetype": "text/x-python",
   "name": "python",
   "nbconvert_exporter": "python",
   "pygments_lexer": "ipython3",
   "version": "3.8.10"
  },
  "orig_nbformat": 4,
  "vscode": {
   "interpreter": {
    "hash": "311f9ad72853ce38d00a12521a098bf105a13a75490bd1b1a64bc7cd30e01863"
   }
  }
 },
 "nbformat": 4,
 "nbformat_minor": 2
}
