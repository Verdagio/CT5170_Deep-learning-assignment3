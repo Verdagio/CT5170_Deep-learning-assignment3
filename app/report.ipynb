{
 "cells": [
  {
   "cell_type": "markdown",
   "metadata": {},
   "source": [
    "# CT1570 - Principles of Machine Learning\n",
    "## Course code: 1MAO3\n",
    "#### Daniel Verdejo, 22240224"
   ]
  },
  {
   "cell_type": "markdown",
   "metadata": {},
   "source": [
    "***Q1***\n",
    "The package which will be used to carry out our regression task today is Tensorflow / Keras. The reasoning behind teh choice of is: the library is a very capable, easy to use, and quick to get up and running. Additionally there is plenty of comprehensive documentation and examples provided by the team at Tensorflow to generate all different kinds of models, and as such was used as a reference to carry out the task at hand.\n",
    "\n",
    "The types of regression which will be implemented here are as follows:\n",
    "1. Neural net regression model\n",
    "2. Random forest\n",
    "\n",
    "**Neural net regression model**\n",
    "A sequential neural network which is suitable for time-series data \n",
    "\n",
    "**Random forest**\n",
    "The Random forest model is can be used for both classification and regression tasks. In this instance its carrying out a regression task meaning the mean/average of the predictions of all the decision trees in the model is returned. Random forests are an ensemble of Decision trees, or more simply put a combination of models with the aim to create a more powerful model. The reason we would choose the Random forest over a simple decision tree is the decision trees tendency to overfit. While a simple decision tree will do a fine job, the Random forest reduces overfitting, but benefits from multiple Decision trees prediction power. As you would suspect, the Random forest requires many Decision trees which each should do a fine job at predicting what the `energy_consumption` will be. Each tree will be slightly different, hence \"Random\" in the name. Randomisation is done in 2 ways by selecting:\n",
    "1. data points to build a tree with\n",
    "2. features in each divergence point\n",
    "\n",
    "[Reference: O'Reilly: Introduction to machine learning with python | Ch2: Supervised Machine Learning Algorithms | Page 85](https://www.oreilly.com/library/view/introduction-to-machine/9781449369880/)\n"
   ]
  },
  {
   "cell_type": "markdown",
   "metadata": {},
   "source": []
  }
 ],
 "metadata": {
  "kernelspec": {
   "display_name": "Python 3.8.10 64-bit",
   "language": "python",
   "name": "python3"
  },
  "language_info": {
   "name": "python",
   "version": "3.8.10"
  },
  "orig_nbformat": 4,
  "vscode": {
   "interpreter": {
    "hash": "311f9ad72853ce38d00a12521a098bf105a13a75490bd1b1a64bc7cd30e01863"
   }
  }
 },
 "nbformat": 4,
 "nbformat_minor": 2
}
